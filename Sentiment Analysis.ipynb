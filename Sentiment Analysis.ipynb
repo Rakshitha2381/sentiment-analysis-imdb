{
 "cells": [
  {
   "cell_type": "code",
   "execution_count": null,
   "id": "dec9dde8-8d41-4658-ae9b-be7bc199e42e",
   "metadata": {},
   "outputs": [],
   "source": []
  },
  {
   "cell_type": "code",
   "execution_count": 1,
   "id": "764d78a2-2dee-45c0-8143-fe3abf70401c",
   "metadata": {},
   "outputs": [
    {
     "name": "stderr",
     "output_type": "stream",
     "text": [
      "[nltk_data] Downloading package stopwords to\n",
      "[nltk_data]     C:\\Users\\rajra\\AppData\\Roaming\\nltk_data...\n",
      "[nltk_data]   Unzipping corpora\\stopwords.zip.\n",
      "[nltk_data] Downloading package punkt to\n",
      "[nltk_data]     C:\\Users\\rajra\\AppData\\Roaming\\nltk_data...\n",
      "[nltk_data]   Unzipping tokenizers\\punkt.zip.\n"
     ]
    },
    {
     "data": {
      "text/plain": [
       "True"
      ]
     },
     "execution_count": 1,
     "metadata": {},
     "output_type": "execute_result"
    }
   ],
   "source": [
    "import nltk\n",
    "nltk.download('stopwords')\n",
    "nltk.download('punkt')"
   ]
  },
  {
   "cell_type": "code",
   "execution_count": null,
   "id": "f710831d-0eb4-44e1-9886-36a899952dbf",
   "metadata": {},
   "outputs": [],
   "source": []
  },
  {
   "cell_type": "code",
   "execution_count": null,
   "id": "12c04a58-46cb-4bac-80c7-fdd16197cb7c",
   "metadata": {},
   "outputs": [],
   "source": []
  },
  {
   "cell_type": "code",
   "execution_count": 7,
   "id": "f274a8d6-28a8-4321-9f1a-31f628e12586",
   "metadata": {},
   "outputs": [
    {
     "name": "stderr",
     "output_type": "stream",
     "text": [
      "[nltk_data] Downloading package punkt_tab to\n",
      "[nltk_data]     C:\\Users\\rajra\\AppData\\Roaming\\nltk_data...\n",
      "[nltk_data]   Unzipping tokenizers\\punkt_tab.zip.\n"
     ]
    },
    {
     "data": {
      "text/plain": [
       "True"
      ]
     },
     "execution_count": 7,
     "metadata": {},
     "output_type": "execute_result"
    }
   ],
   "source": [
    "nltk.download('punkt_tab')"
   ]
  },
  {
   "cell_type": "code",
   "execution_count": null,
   "id": "4f210a03-8d6e-43f8-99db-b6f88f1a3b98",
   "metadata": {},
   "outputs": [],
   "source": []
  },
  {
   "cell_type": "code",
   "execution_count": null,
   "id": "8dc0bf09-af49-4242-83d4-4d9b21ac2f8a",
   "metadata": {},
   "outputs": [],
   "source": []
  },
  {
   "cell_type": "code",
   "execution_count": 21,
   "id": "bf768948-bd70-4f60-8c29-d4d88dea5d65",
   "metadata": {},
   "outputs": [],
   "source": [
    "import pandas as pd\n",
    "import numpy as np\n",
    "import re\n",
    "from nltk.corpus import stopwords\n",
    "from nltk.tokenize import word_tokenize\n",
    "from sklearn.model_selection import train_test_split\n",
    "from sklearn.feature_extraction.text import TfidfVectorizer\n",
    "from sklearn.linear_model import LogisticRegression\n",
    "from sklearn.metrics import accuracy_score, classification_report"
   ]
  },
  {
   "cell_type": "code",
   "execution_count": null,
   "id": "a7efac07-a817-4d81-9a44-7c65a0cf8d63",
   "metadata": {},
   "outputs": [],
   "source": []
  },
  {
   "cell_type": "code",
   "execution_count": null,
   "id": "e99a28e8-bacf-40d6-898f-f7134a58045b",
   "metadata": {},
   "outputs": [],
   "source": []
  },
  {
   "cell_type": "code",
   "execution_count": 31,
   "id": "16e984d3-13a4-4662-9912-65072f098277",
   "metadata": {},
   "outputs": [
    {
     "name": "stdout",
     "output_type": "stream",
     "text": [
      "Dataset loaded successfully.\n",
      "Original data counts (already balanced):\n",
      "sentiment\n",
      "Positive    25000\n",
      "Negative    25000\n",
      "Name: count, dtype: int64\n",
      "\n",
      "Displaying the first 5 rows of the DataFrame:\n"
     ]
    },
    {
     "data": {
      "text/html": [
       "<div>\n",
       "<style scoped>\n",
       "    .dataframe tbody tr th:only-of-type {\n",
       "        vertical-align: middle;\n",
       "    }\n",
       "\n",
       "    .dataframe tbody tr th {\n",
       "        vertical-align: top;\n",
       "    }\n",
       "\n",
       "    .dataframe thead th {\n",
       "        text-align: right;\n",
       "    }\n",
       "</style>\n",
       "<table border=\"1\" class=\"dataframe\">\n",
       "  <thead>\n",
       "    <tr style=\"text-align: right;\">\n",
       "      <th></th>\n",
       "      <th>review</th>\n",
       "      <th>sentiment</th>\n",
       "    </tr>\n",
       "  </thead>\n",
       "  <tbody>\n",
       "    <tr>\n",
       "      <th>0</th>\n",
       "      <td>One of the other reviewers has mentioned that ...</td>\n",
       "      <td>Positive</td>\n",
       "    </tr>\n",
       "    <tr>\n",
       "      <th>1</th>\n",
       "      <td>A wonderful little production. &lt;br /&gt;&lt;br /&gt;The...</td>\n",
       "      <td>Positive</td>\n",
       "    </tr>\n",
       "    <tr>\n",
       "      <th>2</th>\n",
       "      <td>I thought this was a wonderful way to spend ti...</td>\n",
       "      <td>Positive</td>\n",
       "    </tr>\n",
       "    <tr>\n",
       "      <th>3</th>\n",
       "      <td>Basically there's a family where a little boy ...</td>\n",
       "      <td>Negative</td>\n",
       "    </tr>\n",
       "    <tr>\n",
       "      <th>4</th>\n",
       "      <td>Petter Mattei's \"Love in the Time of Money\" is...</td>\n",
       "      <td>Positive</td>\n",
       "    </tr>\n",
       "  </tbody>\n",
       "</table>\n",
       "</div>"
      ],
      "text/plain": [
       "                                              review sentiment\n",
       "0  One of the other reviewers has mentioned that ...  Positive\n",
       "1  A wonderful little production. <br /><br />The...  Positive\n",
       "2  I thought this was a wonderful way to spend ti...  Positive\n",
       "3  Basically there's a family where a little boy ...  Negative\n",
       "4  Petter Mattei's \"Love in the Time of Money\" is...  Positive"
      ]
     },
     "execution_count": 31,
     "metadata": {},
     "output_type": "execute_result"
    }
   ],
   "source": [
    "# --- 1. Load the IMDb CSV Dataset ---\n",
    "file_name = 'IMDB Dataset.csv' \n",
    "\n",
    "try:\n",
    "    df = pd.read_csv(file_name)\n",
    "except FileNotFoundError:\n",
    "    print(f\"Error: Could not find the file '{file_name}'\")\n",
    "    print(\"Please make sure it's in your C:\\\\Users\\\\rajra\\\\Project folder.\")\n",
    "    raise\n",
    "\n",
    "print(\"Dataset loaded successfully.\")\n",
    "print(\"Original data counts (already balanced):\")\n",
    "# The sentiment column is already 'positive' or 'negative'\n",
    "df['sentiment'] = df['sentiment'].apply(lambda x: 'Positive' if x == 'positive' else 'Negative')\n",
    "print(df['sentiment'].value_counts())\n",
    "\n",
    "print(\"\\nDisplaying the first 5 rows of the DataFrame:\")\n",
    "df.head()"
   ]
  },
  {
   "cell_type": "code",
   "execution_count": 32,
   "id": "39d32588-d2ff-41a1-852a-e7629a706541",
   "metadata": {},
   "outputs": [
    {
     "data": {
      "text/plain": [
       "Index(['review', 'sentiment'], dtype='object')"
      ]
     },
     "execution_count": 32,
     "metadata": {},
     "output_type": "execute_result"
    }
   ],
   "source": [
    "df.columns"
   ]
  },
  {
   "cell_type": "code",
   "execution_count": 27,
   "id": "c113af45-ab23-42e8-8eeb-37f460d9da6c",
   "metadata": {},
   "outputs": [
    {
     "data": {
      "text/plain": [
       "review       0\n",
       "sentiment    0\n",
       "dtype: int64"
      ]
     },
     "execution_count": 27,
     "metadata": {},
     "output_type": "execute_result"
    }
   ],
   "source": [
    "df.isnull().sum()"
   ]
  },
  {
   "cell_type": "code",
   "execution_count": 33,
   "id": "408f234e-298e-4291-a328-8c48b61513ec",
   "metadata": {},
   "outputs": [
    {
     "data": {
      "text/plain": [
       "np.int64(418)"
      ]
     },
     "execution_count": 33,
     "metadata": {},
     "output_type": "execute_result"
    }
   ],
   "source": [
    "df.duplicated().sum()"
   ]
  },
  {
   "cell_type": "code",
   "execution_count": 34,
   "id": "89b97eca-fef8-46a7-a740-f0d785a3a8e6",
   "metadata": {},
   "outputs": [],
   "source": [
    "df = df.drop_duplicates()"
   ]
  },
  {
   "cell_type": "code",
   "execution_count": 35,
   "id": "0d7bd4be-b94a-48f1-b159-f47864252108",
   "metadata": {},
   "outputs": [
    {
     "data": {
      "text/plain": [
       "np.int64(0)"
      ]
     },
     "execution_count": 35,
     "metadata": {},
     "output_type": "execute_result"
    }
   ],
   "source": [
    "df.duplicated().sum()"
   ]
  },
  {
   "cell_type": "code",
   "execution_count": null,
   "id": "9858685c-c4ac-458b-a7f9-e142d64e2709",
   "metadata": {},
   "outputs": [],
   "source": []
  },
  {
   "cell_type": "code",
   "execution_count": null,
   "id": "c1af27a5-3ee9-4834-ba09-92d1f3e72ad5",
   "metadata": {},
   "outputs": [],
   "source": []
  },
  {
   "cell_type": "code",
   "execution_count": null,
   "id": "0f528092-4047-4136-bcfb-671b39c4e63e",
   "metadata": {},
   "outputs": [],
   "source": []
  },
  {
   "cell_type": "code",
   "execution_count": 36,
   "id": "47db08b0-87b2-474f-bcba-1f44f97502ed",
   "metadata": {},
   "outputs": [
    {
     "name": "stdout",
     "output_type": "stream",
     "text": [
      "\n",
      "Cleaning text data (this will take a few minutes for 50,000 reviews)...\n",
      "Cleaning complete.\n"
     ]
    }
   ],
   "source": [
    "# --- 2. Text Preprocessing ---\n",
    "stop_words = set(stopwords.words('english'))\n",
    "negations = {'not', 'no', 'never', \"don't\", \"shouldn't\", \"wasn't\", \"weren't\", \n",
    "             \"haven't\", \"hasn't\", \"hadn't\", \"doesn't\", \"didn't\", \"can't\", \"couldn't\"}\n",
    "stop_words = stop_words - negations\n",
    "\n",
    "def clean_text(text):\n",
    "    text = str(text).lower() \n",
    "    text = re.sub(r'<br />', ' ', text) # Remove HTML breaks\n",
    "    text = re.sub(r'[^a-z\\s]', '', text) # Remove punctuation/numbers\n",
    "    tokens = word_tokenize(text) \n",
    "    clean_tokens = [word for word in tokens if word not in stop_words]\n",
    "    return ' '.join(clean_tokens) \n",
    "\n",
    "print(\"\\nCleaning text data (this will take a few minutes for 50,000 reviews)...\")\n",
    "# The review column is named 'review'\n",
    "df['clean_text'] = df['review'].apply(clean_text)\n",
    "print(\"Cleaning complete.\")"
   ]
  },
  {
   "cell_type": "code",
   "execution_count": null,
   "id": "ba61d1cc-ffa5-4f8c-aaf0-bbf1b5d21d07",
   "metadata": {},
   "outputs": [],
   "source": []
  },
  {
   "cell_type": "code",
   "execution_count": 37,
   "id": "31f5dd1c-d067-4867-913d-752f5516a55e",
   "metadata": {},
   "outputs": [
    {
     "name": "stdout",
     "output_type": "stream",
     "text": [
      "\n",
      "Training set size: 39665\n",
      "Testing set size: 9917\n"
     ]
    }
   ],
   "source": [
    "# --- 3. Split the Data ---\n",
    "# The data is already balanced, so no upsampling is needed.\n",
    "X = df['clean_text']\n",
    "y = df['sentiment']\n",
    "\n",
    "X_train, X_test, y_train, y_test = train_test_split(X, y, test_size=0.2, random_state=42, stratify=y)\n",
    "\n",
    "print(f\"\\nTraining set size: {len(y_train)}\")\n",
    "print(f\"Testing set size: {len(y_test)}\")"
   ]
  },
  {
   "cell_type": "code",
   "execution_count": null,
   "id": "216fed76-8c20-4f67-9ce3-5346f947456a",
   "metadata": {},
   "outputs": [],
   "source": []
  },
  {
   "cell_type": "code",
   "execution_count": 38,
   "id": "a8b88b17-bb8c-49b9-bc36-33c7375c7f43",
   "metadata": {},
   "outputs": [
    {
     "name": "stdout",
     "output_type": "stream",
     "text": [
      "\n",
      "Fitting vectorizer on training data...\n",
      "Training model...\n",
      "Model trained successfully.\n"
     ]
    }
   ],
   "source": [
    "# --- 4. Vectorizing and Training ---\n",
    "tfidf_vectorizer = TfidfVectorizer(max_features=10000) # Use a large vocabulary\n",
    "model = LogisticRegression(max_iter=1000) \n",
    "\n",
    "print(\"\\nFitting vectorizer on training data...\")\n",
    "X_train_vec = tfidf_vectorizer.fit_transform(X_train)\n",
    "\n",
    "print(\"Training model...\")\n",
    "model.fit(X_train_vec, y_train)\n",
    "print(\"Model trained successfully.\")"
   ]
  },
  {
   "cell_type": "code",
   "execution_count": null,
   "id": "11674ba0-191d-41c1-8951-5487b751515f",
   "metadata": {},
   "outputs": [],
   "source": []
  },
  {
   "cell_type": "code",
   "execution_count": 39,
   "id": "e439cc69-4d30-45d2-8cab-a0f38f4022a6",
   "metadata": {},
   "outputs": [
    {
     "name": "stdout",
     "output_type": "stream",
     "text": [
      "\n",
      "Evaluating model on the unseen test set...\n",
      "\n",
      "--- FINAL MODEL ACCURACY: 89.07% ---\n",
      "\n",
      "Classification Report (This is the true score):\n",
      "              precision    recall  f1-score   support\n",
      "\n",
      "    Negative       0.90      0.88      0.89      4940\n",
      "    Positive       0.88      0.90      0.89      4977\n",
      "\n",
      "    accuracy                           0.89      9917\n",
      "   macro avg       0.89      0.89      0.89      9917\n",
      "weighted avg       0.89      0.89      0.89      9917\n",
      "\n"
     ]
    }
   ],
   "source": [
    "# --- 5. Evaluate the Model ---\n",
    "print(\"\\nEvaluating model on the unseen test set...\")\n",
    "X_test_vec = tfidf_vectorizer.transform(X_test)\n",
    "y_pred = model.predict(X_test_vec)\n",
    "\n",
    "accuracy = accuracy_score(y_test, y_pred)\n",
    "print(f\"\\n--- FINAL MODEL ACCURACY: {accuracy * 100:.2f}% ---\")\n",
    "print(\"\\nClassification Report (This is the true score):\")\n",
    "print(classification_report(y_test, y_pred))"
   ]
  },
  {
   "cell_type": "code",
   "execution_count": null,
   "id": "09a6dd00-e075-4170-a480-641ae701885c",
   "metadata": {},
   "outputs": [],
   "source": []
  },
  {
   "cell_type": "code",
   "execution_count": 40,
   "id": "371a9ad4-42bc-46ec-b676-b9fa9fa23e6d",
   "metadata": {},
   "outputs": [
    {
     "name": "stdout",
     "output_type": "stream",
     "text": [
      "\n",
      "--- Testing with your reviews ---\n",
      "\n",
      "Review: 'This product was a complete waste of money. It broke after one day!'\n",
      "Predicted Sentiment: Negative\n",
      "\n",
      "Review: 'It's an okay product, not great but not terrible.'\n",
      "Predicted Sentiment: Negative\n",
      "\n",
      "Review: 'Wow! I love this, it's the best purchase I have made all year.'\n",
      "Predicted Sentiment: Positive\n"
     ]
    }
   ],
   "source": [
    "# --- 6. Test with new reviews ---\n",
    "print(\"\\n--- Testing with your reviews ---\")\n",
    "reviews_to_test = [\n",
    "    \"This product was a complete waste of money. It broke after one day!\",\n",
    "    \"It's an okay product, not great but not terrible.\",\n",
    "    \"Wow! I love this, it's the best purchase I have made all year.\"\n",
    "]\n",
    "\n",
    "for review in reviews_to_test:\n",
    "    cleaned_review = clean_text(review)\n",
    "    vectorized_review = tfidf_vectorizer.transform([cleaned_review])\n",
    "    prediction = model.predict(vectorized_review)\n",
    "    print(f\"\\nReview: '{review}'\")\n",
    "    print(f\"Predicted Sentiment: {prediction[0]}\")"
   ]
  },
  {
   "cell_type": "code",
   "execution_count": null,
   "id": "ac0932a8-4f03-4f23-ab46-e893c1328839",
   "metadata": {},
   "outputs": [],
   "source": []
  },
  {
   "cell_type": "code",
   "execution_count": null,
   "id": "070a6012-8cfd-4220-9440-cce32ac403bf",
   "metadata": {},
   "outputs": [],
   "source": []
  },
  {
   "cell_type": "code",
   "execution_count": 42,
   "id": "b1eb42bc-531d-4097-ba29-f4d7ff78f415",
   "metadata": {},
   "outputs": [
    {
     "name": "stdout",
     "output_type": "stream",
     "text": [
      "Collecting matplotlib\n",
      "  Downloading matplotlib-3.10.7-cp312-cp312-win_amd64.whl.metadata (11 kB)\n",
      "Collecting seaborn\n",
      "  Using cached seaborn-0.13.2-py3-none-any.whl.metadata (5.4 kB)\n",
      "Collecting contourpy>=1.0.1 (from matplotlib)\n",
      "  Downloading contourpy-1.3.3-cp312-cp312-win_amd64.whl.metadata (5.5 kB)\n",
      "Collecting cycler>=0.10 (from matplotlib)\n",
      "  Using cached cycler-0.12.1-py3-none-any.whl.metadata (3.8 kB)\n",
      "Collecting fonttools>=4.22.0 (from matplotlib)\n",
      "  Downloading fonttools-4.60.1-cp312-cp312-win_amd64.whl.metadata (114 kB)\n",
      "     ---------------------------------------- 0.0/114.6 kB ? eta -:--:--\n",
      "     --- ------------------------------------ 10.2/114.6 kB ? eta -:--:--\n",
      "     -------------------------------------  112.6/114.6 kB 1.3 MB/s eta 0:00:01\n",
      "     ------------------------------------ 114.6/114.6 kB 957.1 kB/s eta 0:00:00\n",
      "Collecting kiwisolver>=1.3.1 (from matplotlib)\n",
      "  Downloading kiwisolver-1.4.9-cp312-cp312-win_amd64.whl.metadata (6.4 kB)\n",
      "Requirement already satisfied: numpy>=1.23 in c:\\users\\rajra\\project\\my_project_env\\lib\\site-packages (from matplotlib) (2.3.4)\n",
      "Requirement already satisfied: packaging>=20.0 in c:\\users\\rajra\\project\\my_project_env\\lib\\site-packages (from matplotlib) (25.0)\n",
      "Collecting pillow>=8 (from matplotlib)\n",
      "  Downloading pillow-12.0.0-cp312-cp312-win_amd64.whl.metadata (9.0 kB)\n",
      "Collecting pyparsing>=3 (from matplotlib)\n",
      "  Downloading pyparsing-3.2.5-py3-none-any.whl.metadata (5.0 kB)\n",
      "Requirement already satisfied: python-dateutil>=2.7 in c:\\users\\rajra\\project\\my_project_env\\lib\\site-packages (from matplotlib) (2.9.0.post0)\n",
      "Requirement already satisfied: pandas>=1.2 in c:\\users\\rajra\\project\\my_project_env\\lib\\site-packages (from seaborn) (2.3.3)\n",
      "Requirement already satisfied: pytz>=2020.1 in c:\\users\\rajra\\project\\my_project_env\\lib\\site-packages (from pandas>=1.2->seaborn) (2025.2)\n",
      "Requirement already satisfied: tzdata>=2022.7 in c:\\users\\rajra\\project\\my_project_env\\lib\\site-packages (from pandas>=1.2->seaborn) (2025.2)\n",
      "Requirement already satisfied: six>=1.5 in c:\\users\\rajra\\project\\my_project_env\\lib\\site-packages (from python-dateutil>=2.7->matplotlib) (1.17.0)\n",
      "Downloading matplotlib-3.10.7-cp312-cp312-win_amd64.whl (8.1 MB)\n",
      "   ---------------------------------------- 0.0/8.1 MB ? eta -:--:--\n",
      "    --------------------------------------- 0.1/8.1 MB 7.0 MB/s eta 0:00:02\n",
      "   - -------------------------------------- 0.3/8.1 MB 3.5 MB/s eta 0:00:03\n",
      "   -- ------------------------------------- 0.6/8.1 MB 4.1 MB/s eta 0:00:02\n",
      "   --- ------------------------------------ 0.7/8.1 MB 4.2 MB/s eta 0:00:02\n",
      "   ----- ---------------------------------- 1.1/8.1 MB 4.8 MB/s eta 0:00:02\n",
      "   ------ --------------------------------- 1.3/8.1 MB 4.9 MB/s eta 0:00:02\n",
      "   ------- -------------------------------- 1.6/8.1 MB 5.1 MB/s eta 0:00:02\n",
      "   --------- ------------------------------ 1.9/8.1 MB 4.9 MB/s eta 0:00:02\n",
      "   ---------- ----------------------------- 2.1/8.1 MB 5.2 MB/s eta 0:00:02\n",
      "   ----------- ---------------------------- 2.3/8.1 MB 5.1 MB/s eta 0:00:02\n",
      "   ------------- -------------------------- 2.7/8.1 MB 5.3 MB/s eta 0:00:02\n",
      "   --------------- ------------------------ 3.1/8.1 MB 5.5 MB/s eta 0:00:01\n",
      "   --------------- ------------------------ 3.2/8.1 MB 5.4 MB/s eta 0:00:01\n",
      "   ----------------- ---------------------- 3.6/8.1 MB 5.7 MB/s eta 0:00:01\n",
      "   ------------------- -------------------- 4.0/8.1 MB 5.8 MB/s eta 0:00:01\n",
      "   -------------------- ------------------- 4.1/8.1 MB 5.5 MB/s eta 0:00:01\n",
      "   ---------------------- ----------------- 4.5/8.1 MB 5.9 MB/s eta 0:00:01\n",
      "   ------------------------ --------------- 4.9/8.1 MB 6.0 MB/s eta 0:00:01\n",
      "   ------------------------ --------------- 5.1/8.1 MB 6.0 MB/s eta 0:00:01\n",
      "   -------------------------- ------------- 5.3/8.1 MB 5.8 MB/s eta 0:00:01\n",
      "   ---------------------------- ----------- 5.7/8.1 MB 6.1 MB/s eta 0:00:01\n",
      "   ------------------------------ --------- 6.3/8.1 MB 6.3 MB/s eta 0:00:01\n",
      "   --------------------------------- ------ 6.9/8.1 MB 6.6 MB/s eta 0:00:01\n",
      "   ----------------------------------- ---- 7.2/8.1 MB 6.6 MB/s eta 0:00:01\n",
      "   ------------------------------------ --- 7.5/8.1 MB 6.7 MB/s eta 0:00:01\n",
      "   ------------------------------------ --- 7.5/8.1 MB 6.7 MB/s eta 0:00:01\n",
      "   ------------------------------------- -- 7.5/8.1 MB 6.2 MB/s eta 0:00:01\n",
      "   ------------------------------------- -- 7.5/8.1 MB 6.2 MB/s eta 0:00:01\n",
      "   ---------------------------------------  8.1/8.1 MB 6.1 MB/s eta 0:00:01\n",
      "   ---------------------------------------  8.1/8.1 MB 6.0 MB/s eta 0:00:01\n",
      "   ---------------------------------------  8.1/8.1 MB 6.0 MB/s eta 0:00:01\n",
      "   ---------------------------------------- 8.1/8.1 MB 5.7 MB/s eta 0:00:00\n",
      "Using cached seaborn-0.13.2-py3-none-any.whl (294 kB)\n",
      "Downloading contourpy-1.3.3-cp312-cp312-win_amd64.whl (226 kB)\n",
      "   ---------------------------------------- 0.0/226.6 kB ? eta -:--:--\n",
      "   --------------------------------------- 226.6/226.6 kB 13.5 MB/s eta 0:00:00\n",
      "Using cached cycler-0.12.1-py3-none-any.whl (8.3 kB)\n",
      "Downloading fonttools-4.60.1-cp312-cp312-win_amd64.whl (2.3 MB)\n",
      "   ---------------------------------------- 0.0/2.3 MB ? eta -:--:--\n",
      "   ------- -------------------------------- 0.4/2.3 MB 26.9 MB/s eta 0:00:01\n",
      "   -------------- ------------------------- 0.8/2.3 MB 13.3 MB/s eta 0:00:01\n",
      "   --------------------- ------------------ 1.2/2.3 MB 11.0 MB/s eta 0:00:01\n",
      "   --------------------------- ------------ 1.5/2.3 MB 10.8 MB/s eta 0:00:01\n",
      "   ---------------------------------- ----- 1.9/2.3 MB 10.3 MB/s eta 0:00:01\n",
      "   ------------------------------------- -- 2.1/2.3 MB 9.7 MB/s eta 0:00:01\n",
      "   ------------------------------------- -- 2.2/2.3 MB 8.0 MB/s eta 0:00:01\n",
      "   ---------------------------------------  2.3/2.3 MB 7.2 MB/s eta 0:00:01\n",
      "   ---------------------------------------- 2.3/2.3 MB 6.6 MB/s eta 0:00:00\n",
      "Downloading kiwisolver-1.4.9-cp312-cp312-win_amd64.whl (73 kB)\n",
      "   ---------------------------------------- 0.0/73.9 kB ? eta -:--:--\n",
      "   ---------------------------------------- 73.9/73.9 kB 4.0 MB/s eta 0:00:00\n",
      "Downloading pillow-12.0.0-cp312-cp312-win_amd64.whl (7.0 MB)\n",
      "   ---------------------------------------- 0.0/7.0 MB ? eta -:--:--\n",
      "   - -------------------------------------- 0.3/7.0 MB 9.9 MB/s eta 0:00:01\n",
      "   --- ------------------------------------ 0.6/7.0 MB 7.6 MB/s eta 0:00:01\n",
      "   ----- ---------------------------------- 0.9/7.0 MB 8.4 MB/s eta 0:00:01\n",
      "   ------ --------------------------------- 1.2/7.0 MB 7.5 MB/s eta 0:00:01\n",
      "   ------- -------------------------------- 1.3/7.0 MB 6.3 MB/s eta 0:00:01\n",
      "   -------- ------------------------------- 1.6/7.0 MB 6.7 MB/s eta 0:00:01\n",
      "   ---------- ----------------------------- 1.9/7.0 MB 6.0 MB/s eta 0:00:01\n",
      "   ------------ --------------------------- 2.1/7.0 MB 6.2 MB/s eta 0:00:01\n",
      "   ------------ --------------------------- 2.2/7.0 MB 5.5 MB/s eta 0:00:01\n",
      "   ------------ --------------------------- 2.2/7.0 MB 5.5 MB/s eta 0:00:01\n",
      "   -------------- ------------------------- 2.5/7.0 MB 5.1 MB/s eta 0:00:01\n",
      "   --------------- ------------------------ 2.8/7.0 MB 5.1 MB/s eta 0:00:01\n",
      "   ---------------- ----------------------- 2.9/7.0 MB 4.9 MB/s eta 0:00:01\n",
      "   ----------------- ---------------------- 3.0/7.0 MB 4.7 MB/s eta 0:00:01\n",
      "   ------------------ --------------------- 3.2/7.0 MB 4.6 MB/s eta 0:00:01\n",
      "   ------------------ --------------------- 3.3/7.0 MB 4.5 MB/s eta 0:00:01\n",
      "   ------------------- -------------------- 3.5/7.0 MB 4.5 MB/s eta 0:00:01\n",
      "   -------------------- ------------------- 3.6/7.0 MB 4.5 MB/s eta 0:00:01\n",
      "   --------------------- ------------------ 3.8/7.0 MB 4.4 MB/s eta 0:00:01\n",
      "   ---------------------- ----------------- 4.0/7.0 MB 4.4 MB/s eta 0:00:01\n",
      "   ------------------------ --------------- 4.2/7.0 MB 4.4 MB/s eta 0:00:01\n",
      "   ------------------------ --------------- 4.3/7.0 MB 4.3 MB/s eta 0:00:01\n",
      "   ------------------------- -------------- 4.5/7.0 MB 4.3 MB/s eta 0:00:01\n",
      "   ------------------------- -------------- 4.5/7.0 MB 4.3 MB/s eta 0:00:01\n",
      "   -------------------------- ------------- 4.7/7.0 MB 4.1 MB/s eta 0:00:01\n",
      "   --------------------------- ------------ 4.7/7.0 MB 4.0 MB/s eta 0:00:01\n",
      "   --------------------------- ------------ 4.8/7.0 MB 3.9 MB/s eta 0:00:01\n",
      "   ---------------------------- ----------- 5.0/7.0 MB 3.8 MB/s eta 0:00:01\n",
      "   ---------------------------- ----------- 5.1/7.0 MB 3.8 MB/s eta 0:00:01\n",
      "   ----------------------------- ---------- 5.1/7.0 MB 3.7 MB/s eta 0:00:01\n",
      "   ----------------------------- ---------- 5.2/7.0 MB 3.6 MB/s eta 0:00:01\n",
      "   ------------------------------ --------- 5.3/7.0 MB 3.5 MB/s eta 0:00:01\n",
      "   ------------------------------ --------- 5.4/7.0 MB 3.5 MB/s eta 0:00:01\n",
      "   ------------------------------- -------- 5.5/7.0 MB 3.5 MB/s eta 0:00:01\n",
      "   ------------------------------- -------- 5.6/7.0 MB 3.4 MB/s eta 0:00:01\n",
      "   -------------------------------- ------- 5.7/7.0 MB 3.3 MB/s eta 0:00:01\n",
      "   -------------------------------- ------- 5.8/7.0 MB 3.3 MB/s eta 0:00:01\n",
      "   --------------------------------- ------ 5.9/7.0 MB 3.3 MB/s eta 0:00:01\n",
      "   ---------------------------------- ----- 6.0/7.0 MB 3.2 MB/s eta 0:00:01\n",
      "   ---------------------------------- ----- 6.1/7.0 MB 3.2 MB/s eta 0:00:01\n",
      "   ----------------------------------- ---- 6.2/7.0 MB 3.2 MB/s eta 0:00:01\n",
      "   ----------------------------------- ---- 6.2/7.0 MB 3.1 MB/s eta 0:00:01\n",
      "   ------------------------------------ --- 6.3/7.0 MB 3.1 MB/s eta 0:00:01\n",
      "   ------------------------------------ --- 6.4/7.0 MB 3.1 MB/s eta 0:00:01\n",
      "   ------------------------------------- -- 6.5/7.0 MB 3.0 MB/s eta 0:00:01\n",
      "   ------------------------------------- -- 6.6/7.0 MB 3.0 MB/s eta 0:00:01\n",
      "   -------------------------------------- - 6.7/7.0 MB 3.0 MB/s eta 0:00:01\n",
      "   -------------------------------------- - 6.8/7.0 MB 3.0 MB/s eta 0:00:01\n",
      "   ---------------------------------------  6.9/7.0 MB 2.9 MB/s eta 0:00:01\n",
      "   ---------------------------------------  6.9/7.0 MB 2.9 MB/s eta 0:00:01\n",
      "   ---------------------------------------  7.0/7.0 MB 2.9 MB/s eta 0:00:01\n",
      "   ---------------------------------------- 7.0/7.0 MB 2.8 MB/s eta 0:00:00\n",
      "Downloading pyparsing-3.2.5-py3-none-any.whl (113 kB)\n",
      "   ---------------------------------------- 0.0/113.9 kB ? eta -:--:--\n",
      "   ---------------------------------------  112.6/113.9 kB 3.3 MB/s eta 0:00:01\n",
      "   ---------------------------------------- 113.9/113.9 kB 2.2 MB/s eta 0:00:00\n",
      "Installing collected packages: pyparsing, pillow, kiwisolver, fonttools, cycler, contourpy, matplotlib, seaborn\n",
      "Successfully installed contourpy-1.3.3 cycler-0.12.1 fonttools-4.60.1 kiwisolver-1.4.9 matplotlib-3.10.7 pillow-12.0.0 pyparsing-3.2.5 seaborn-0.13.2\n"
     ]
    },
    {
     "name": "stderr",
     "output_type": "stream",
     "text": [
      "\n",
      "[notice] A new release of pip is available: 24.0 -> 25.2\n",
      "[notice] To update, run: python.exe -m pip install --upgrade pip\n"
     ]
    }
   ],
   "source": [
    "!pip install matplotlib seaborn"
   ]
  },
  {
   "cell_type": "code",
   "execution_count": 43,
   "id": "5b5852cb-3e1e-4a3d-853d-2d9e87edd442",
   "metadata": {},
   "outputs": [],
   "source": [
    "import matplotlib.pyplot as plt\n",
    "import seaborn as sns"
   ]
  },
  {
   "cell_type": "code",
   "execution_count": null,
   "id": "5c3da95d-54d9-4a12-bb3e-a408afd7d085",
   "metadata": {},
   "outputs": [],
   "source": []
  },
  {
   "cell_type": "code",
   "execution_count": 44,
   "id": "3366f029-7c6c-4405-9048-29b7cc7755c9",
   "metadata": {},
   "outputs": [
    {
     "name": "stdout",
     "output_type": "stream",
     "text": [
      "Displaying Sentiment Distribution Bar Chart...\n"
     ]
    },
    {
     "name": "stderr",
     "output_type": "stream",
     "text": [
      "C:\\Users\\rajra\\AppData\\Local\\Temp\\ipykernel_24156\\3235850178.py:10: FutureWarning: \n",
      "\n",
      "Passing `palette` without assigning `hue` is deprecated and will be removed in v0.14.0. Assign the `x` variable to `hue` and set `legend=False` for the same effect.\n",
      "\n",
      "  sns.countplot(data=df, x='sentiment',\n"
     ]
    },
    {
     "data": {
      "image/png": "[encoded data removed]",
      "text/plain": [
       "<Figure size 700x500 with 1 Axes>"
      ]
     },
     "metadata": {},
     "output_type": "display_data"
    }
   ],
   "source": [
    "# --- Sentiment Distribution Bar Chart ---\n",
    "\n",
    "print(\"Displaying Sentiment Distribution Bar Chart...\")\n",
    "\n",
    "# Set the size of the graph\n",
    "plt.figure(figsize=(7, 5)) \n",
    "\n",
    "# Create the bar plot\n",
    "# We use a custom palette: green for Positive, red for Negative\n",
    "sns.countplot(data=df, x='sentiment', \n",
    "              palette={'Positive': '#28a745', 'Negative': '#dc3545'}, \n",
    "              order=['Positive', 'Negative']) \n",
    "\n",
    "# Add titles and labels\n",
    "plt.title('Distribution of Positive vs. Negative Reviews', fontsize=16)\n",
    "plt.xlabel('Sentiment', fontsize=12)\n",
    "plt.ylabel('Number of Reviews', fontsize=12)\n",
    "\n",
    "# Display the graph\n",
    "plt.show()"
   ]
  },
  {
   "cell_type": "code",
   "execution_count": null,
   "id": "88880ce4-a0f7-4275-9592-f455ee18cb5d",
   "metadata": {},
   "outputs": [],
   "source": []
  },
  {
   "cell_type": "markdown",
   "id": "37d40451-886f-4a11-b165-fa69d2260644",
   "metadata": {},
   "source": [
    "## Do people tend to write longer positive reviews, or are their negative rants longer?"
   ]
  },
  {
   "cell_type": "code",
   "execution_count": null,
   "id": "7a13538d-de47-4b95-b4fc-77cc4ba43e7c",
   "metadata": {},
   "outputs": [],
   "source": []
  },
  {
   "cell_type": "code",
   "execution_count": 45,
   "id": "11f8202d-1f4d-49a6-a268-51413db7bc0e",
   "metadata": {},
   "outputs": [
    {
     "name": "stdout",
     "output_type": "stream",
     "text": [
      "Calculating word counts for each review...\n",
      "Plotting reviews with less than 800 words.\n",
      "Displaying Review Word Count Distribution Plot...\n"
     ]
    },
    {
     "data": {
      "image/png": "[encoded data removed]",
      "text/plain": [
       "<Figure size 1200x600 with 1 Axes>"
      ]
     },
     "metadata": {},
     "output_type": "display_data"
    }
   ],
   "source": [
    "import matplotlib.pyplot as plt\n",
    "import seaborn as sns\n",
    "\n",
    "# --- 1. Create a new 'word_count' column ---\n",
    "# We calculate the word count based on the *cleaned* text\n",
    "print(\"Calculating word counts for each review...\")\n",
    "df['word_count'] = df['clean_text'].apply(lambda x: len(x.split()))\n",
    "\n",
    "# --- 2. Filter out extreme outliers for a cleaner graph ---\n",
    "# Some reviews are thousands of words long and skew the graph.\n",
    "# We'll focus on reviews under 800 words for a better view.\n",
    "word_count_limit = 800\n",
    "df_filtered = df[df['word_count'] < word_count_limit]\n",
    "print(f\"Plotting reviews with less than {word_count_limit} words.\")\n",
    "\n",
    "# --- 3. Create the Density Plot ---\n",
    "print(\"Displaying Review Word Count Distribution Plot...\")\n",
    "plt.figure(figsize=(12, 6))\n",
    "\n",
    "# Use seaborn's kdeplot to draw a smooth distribution curve\n",
    "# We set `fill=True` to shade the area under the curve\n",
    "# We plot Positive and Negative separately to compare them\n",
    "sns.kdeplot(df_filtered[df_filtered['sentiment'] == 'Positive']['word_count'], \n",
    "            label='Positive', color='#28a745', fill=True)\n",
    "        \n",
    "sns.kdeplot(df_filtered[df_filtered['sentiment'] == 'Negative']['word_count'], \n",
    "            label='Negative', color='#dc3545', fill=True)\n",
    "\n",
    "# Add titles and labels\n",
    "plt.title('Distribution of Word Count by Sentiment', fontsize=16)\n",
    "plt.xlabel('Word Count', fontsize=12)\n",
    "plt.ylabel('Density', fontsize=12)\n",
    "plt.legend()\n",
    "plt.show()"
   ]
  },
  {
   "cell_type": "code",
   "execution_count": null,
   "id": "8a5b18d8-9c6d-4323-80b6-2a040861a78b",
   "metadata": {},
   "outputs": [],
   "source": []
  },
  {
   "cell_type": "code",
   "execution_count": null,
   "id": "cd572e62-7995-4e5e-b098-398422051154",
   "metadata": {},
   "outputs": [],
   "source": []
  },
  {
   "cell_type": "code",
   "execution_count": null,
   "id": "4c114da1-adc2-42b0-8842-a863e5b3773e",
   "metadata": {},
   "outputs": [],
   "source": []
  },
  {
   "cell_type": "code",
   "execution_count": null,
   "id": "0c331b5b-3365-4a2f-a010-0d3a598a09b2",
   "metadata": {},
   "outputs": [],
   "source": []
  },
  {
   "cell_type": "code",
   "execution_count": null,
   "id": "322a6e07-9da0-46d2-8cd0-974f45a25c95",
   "metadata": {},
   "outputs": [],
   "source": []
  }
 ],
 "metadata": {
  "kernelspec": {
   "display_name": "my_project_env",
   "language": "python",
   "name": "my_project_env"
  },
  "language_info": {
   "codemirror_mode": {
    "name": "ipython",
    "version": 3
   },
   "file_extension": ".py",
   "mimetype": "text/x-python",
   "name": "python",
   "nbconvert_exporter": "python",
   "pygments_lexer": "ipython3",
   "version": "3.12.4"
  }
 },
 "nbformat": 4,
 "nbformat_minor": 5
}
